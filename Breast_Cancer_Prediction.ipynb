{
  "nbformat": 4,
  "nbformat_minor": 0,
  "metadata": {
    "colab": {
      "name": "Breast_Cancer_Prediction.ipynb",
      "provenance": [],
      "collapsed_sections": []
    },
    "kernelspec": {
      "name": "python3",
      "display_name": "Python 3"
    },
    "language_info": {
      "name": "python"
    }
  },
  "cells": [
    {
      "cell_type": "code",
      "metadata": {
        "id": "Tecr6D624xsT"
      },
      "source": [
        "import numpy as np\n",
        "from matplotlib import pylab as plt\n",
        "from sklearn import datasets\n",
        "from sklearn.model_selection import train_test_split"
      ],
      "execution_count": 15,
      "outputs": []
    },
    {
      "cell_type": "code",
      "metadata": {
        "id": "W3nn3uBV5Opb"
      },
      "source": [
        "# load breast cancer dataset\n",
        "breastCancer = datasets.load_breast_cancer()"
      ],
      "execution_count": 2,
      "outputs": []
    },
    {
      "cell_type": "code",
      "metadata": {
        "id": "aefn-XvT5VJA"
      },
      "source": [
        "# get data and targets\n",
        "X = breastCancer.data\n",
        "y = breastCancer.target"
      ],
      "execution_count": 3,
      "outputs": []
    },
    {
      "cell_type": "code",
      "metadata": {
        "colab": {
          "base_uri": "https://localhost:8080/"
        },
        "id": "NosZ2FM05ep_",
        "outputId": "ab4971b3-9896-498b-9d45-79bf863068bf"
      },
      "source": [
        "X.shape"
      ],
      "execution_count": 5,
      "outputs": [
        {
          "output_type": "execute_result",
          "data": {
            "text/plain": [
              "(569, 30)"
            ]
          },
          "metadata": {},
          "execution_count": 5
        }
      ]
    },
    {
      "cell_type": "code",
      "metadata": {
        "colab": {
          "base_uri": "https://localhost:8080/"
        },
        "id": "opRx6pjeEVQe",
        "outputId": "d2bf6328-c84f-4031-9816-f7bede922e8a"
      },
      "source": [
        "print(sum(y == 0))\n",
        "print(sum(y == 1))\n",
        "# here you can tell we do not have an even amount of malignant and benign labels"
      ],
      "execution_count": 42,
      "outputs": [
        {
          "output_type": "stream",
          "name": "stdout",
          "text": [
            "212\n",
            "357\n"
          ]
        }
      ]
    },
    {
      "cell_type": "code",
      "metadata": {
        "colab": {
          "base_uri": "https://localhost:8080/"
        },
        "id": "gfLjBHKR5fWH",
        "outputId": "0d907e8c-bd53-47e0-a547-ce30c46f8f45"
      },
      "source": [
        "breastCancer.feature_names"
      ],
      "execution_count": 6,
      "outputs": [
        {
          "output_type": "execute_result",
          "data": {
            "text/plain": [
              "array(['mean radius', 'mean texture', 'mean perimeter', 'mean area',\n",
              "       'mean smoothness', 'mean compactness', 'mean concavity',\n",
              "       'mean concave points', 'mean symmetry', 'mean fractal dimension',\n",
              "       'radius error', 'texture error', 'perimeter error', 'area error',\n",
              "       'smoothness error', 'compactness error', 'concavity error',\n",
              "       'concave points error', 'symmetry error',\n",
              "       'fractal dimension error', 'worst radius', 'worst texture',\n",
              "       'worst perimeter', 'worst area', 'worst smoothness',\n",
              "       'worst compactness', 'worst concavity', 'worst concave points',\n",
              "       'worst symmetry', 'worst fractal dimension'], dtype='<U23')"
            ]
          },
          "metadata": {},
          "execution_count": 6
        }
      ]
    },
    {
      "cell_type": "code",
      "metadata": {
        "colab": {
          "base_uri": "https://localhost:8080/"
        },
        "id": "5ykQRTwH5ln_",
        "outputId": "e6c4a3a1-32d6-4caf-876d-93143b499983"
      },
      "source": [
        "breastCancer.target_names"
      ],
      "execution_count": 7,
      "outputs": [
        {
          "output_type": "execute_result",
          "data": {
            "text/plain": [
              "array(['malignant', 'benign'], dtype='<U9')"
            ]
          },
          "metadata": {},
          "execution_count": 7
        }
      ]
    },
    {
      "cell_type": "code",
      "metadata": {
        "id": "19SZqpfZ5oTO"
      },
      "source": [
        "# benign = non cancerous\n",
        "# malignant = cancerous\n"
      ],
      "execution_count": 8,
      "outputs": []
    },
    {
      "cell_type": "code",
      "metadata": {
        "id": "Xowhwg_n5uCF"
      },
      "source": [
        "# going to use a K nearest Neighbors algorithm I wrote\n",
        "# this is the distance method\n",
        "def distance(x1, x2):\n",
        "    return np.linalg.norm(x1-x2)\n",
        "  "
      ],
      "execution_count": 11,
      "outputs": []
    },
    {
      "cell_type": "code",
      "metadata": {
        "id": "jeiTYsv76X7n"
      },
      "source": [
        "class k_nearest_neighbor:\n",
        "  def __init__(self):\n",
        "        pass\n",
        "  def fit(self, X, y):\n",
        "     self.X = X\n",
        "     self.y = y\n",
        "  def get_nearest(self, x, k):\n",
        "    # get the list of distances\n",
        "    distances = [(distance(x, self.X[i]), i) for i in range(len(self.X))]\n",
        "    # sort distances by distance\n",
        "    distances = sorted(distances, key=lambda x : x[0])\n",
        "    # first k elements\n",
        "    distances = distances[0:k]\n",
        "    # convert into a list of classes\n",
        "    k_classes = [self.y[i[1]] for i in distances]\n",
        "    # find and return the class that is most common, choose 1 if there is a tie\n",
        "    return max(set(k_classes), key=k_classes.count)\n",
        "\n",
        "  def predict(self, x, k):\n",
        "    return self.get_nearest(x, k)"
      ],
      "execution_count": 12,
      "outputs": []
    },
    {
      "cell_type": "code",
      "metadata": {
        "id": "MG4yLLI-6B7w"
      },
      "source": [
        "# this is a function to fit a model, print and return the accuracy given a test train split\n",
        "def run_k_nearest_neighbors(k, X_train, y_train, X_test, y_test) :\n",
        "  # create and fit a k nearest neighbor model object\n",
        "    knn = k_nearest_neighbor()\n",
        "    knn.fit(X_train, y_train)\n",
        "    # get the predicted values\n",
        "    y_pred = np.array([knn.predict(X_test[i],k) for i in range(len(X_test))])\n",
        "    # get the accuracy and return it\n",
        "    acc = np.sum(y_pred == y_test)/len(y_test)\n",
        "    print(f'The accuracy is {acc:.3f}')\n",
        "    return acc"
      ],
      "execution_count": 37,
      "outputs": []
    },
    {
      "cell_type": "code",
      "metadata": {
        "id": "IgFHC2o-6Ujy"
      },
      "source": [
        "# lets split the data into test and train sets\n",
        "testSize = 0.60\n",
        "X_train, X_test, y_train, y_test = train_test_split(X, y, test_size=testSize, shuffle=True, random_state=69)"
      ],
      "execution_count": 26,
      "outputs": []
    },
    {
      "cell_type": "code",
      "metadata": {
        "colab": {
          "base_uri": "https://localhost:8080/"
        },
        "id": "ERpo3hyd7hg6",
        "outputId": "566cc4c9-524b-4b2d-d865-748272127a62"
      },
      "source": [
        "# lets run model for multiple k values and see the accuracy results\n",
        "for i in range(1,8):\n",
        "  acc = run_k_nearest_neighbors(i, X_train, y_train, X_test, y_test)\n",
        "  print(f'For k equals {i} the accuracy is {acc:.4f}')"
      ],
      "execution_count": 27,
      "outputs": [
        {
          "output_type": "stream",
          "name": "stdout",
          "text": [
            "For k equals 1 the accuracy is 0.9211\n",
            "For k equals 2 the accuracy is 0.8977\n",
            "For k equals 3 the accuracy is 0.9298\n",
            "For k equals 4 the accuracy is 0.9327\n",
            "For k equals 5 the accuracy is 0.9298\n",
            "For k equals 6 the accuracy is 0.9240\n",
            "For k equals 7 the accuracy is 0.9327\n"
          ]
        }
      ]
    },
    {
      "cell_type": "code",
      "metadata": {
        "id": "RNRee_Wt7_qY"
      },
      "source": [
        "# Not Bad.... Should we try with Principle Component Analysis?"
      ],
      "execution_count": 28,
      "outputs": []
    },
    {
      "cell_type": "code",
      "metadata": {
        "id": "DCCGk2WaCD9b"
      },
      "source": [
        "from sklearn.decomposition import PCA\n",
        "\n",
        "def find_subspace (X_train, X_test, subspace_dims) :\n",
        "  # create pca object\n",
        "  pca = PCA(n_components=subspace_dims)\n",
        "  #fit the pca object with the data\n",
        "  pca.fit(X_train)\n",
        "  # transform the data set into components of size subspace_dims\n",
        "  Xs = pca.transform(X_train)\n",
        "  Xs_test = pca.transform(X_test)\n",
        "  return Xs, Xs_test, pca"
      ],
      "execution_count": 30,
      "outputs": []
    },
    {
      "cell_type": "code",
      "metadata": {
        "id": "FT3pmCMdCRMs"
      },
      "source": [
        "def generate_accuracy_for_sizes(X_train, y_train, X_test, y_test, dims_min = 2, dims_max = 30) :\n",
        "  # create accuracy array\n",
        "  acc = []\n",
        "  # loop through specified dimensions\n",
        "  for i in range(dims_min, dims_max):\n",
        "    # find/create subspaces\n",
        "    Xs_train, Xs_test, pvs = find_subspace(X_train, X_test, i)\n",
        "    # run k nearest neighbor model and get accuracy\n",
        "    accuracy = run_k_nearest_neighbors(1, Xs_train, y_train, Xs_test, y_test)\n",
        "    # add accuracy and subspace dimension to list\n",
        "    acc.append([i, accuracy])\n",
        "  # return list as np array\n",
        "  return np.array(acc)"
      ],
      "execution_count": 34,
      "outputs": []
    },
    {
      "cell_type": "code",
      "metadata": {
        "id": "dN-UfkxiC20T"
      },
      "source": [
        "def plot_subspace_size_vs_accuracy (X_train, y_train, X_test, y_test) :\n",
        "    accs = generate_accuracy_for_sizes(X_train, y_train, X_test, y_test)\n",
        "    plt.plot(accs[:,0], accs[:,1])\n",
        "    plt.xlabel('Subspace Size')\n",
        "    plt.ylabel('Test Set Accuracy')\n",
        "    pass"
      ],
      "execution_count": 32,
      "outputs": []
    },
    {
      "cell_type": "code",
      "metadata": {
        "colab": {
          "base_uri": "https://localhost:8080/",
          "height": 788
        },
        "id": "jdqElwbDC3h4",
        "outputId": "513a68ae-ce5c-4c01-b628-52510e7d4731"
      },
      "source": [
        "# lets run our model with pca dimensions of 2 - 30\n",
        "plot_subspace_size_vs_accuracy (X_train, y_train, X_test, y_test) "
      ],
      "execution_count": 38,
      "outputs": [
        {
          "output_type": "stream",
          "name": "stdout",
          "text": [
            "The accuracy is 0.909\n",
            "The accuracy is 0.915\n",
            "The accuracy is 0.924\n",
            "The accuracy is 0.921\n",
            "The accuracy is 0.921\n",
            "The accuracy is 0.921\n",
            "The accuracy is 0.921\n",
            "The accuracy is 0.921\n",
            "The accuracy is 0.921\n",
            "The accuracy is 0.921\n",
            "The accuracy is 0.921\n",
            "The accuracy is 0.921\n",
            "The accuracy is 0.921\n",
            "The accuracy is 0.921\n",
            "The accuracy is 0.921\n",
            "The accuracy is 0.921\n",
            "The accuracy is 0.921\n",
            "The accuracy is 0.921\n",
            "The accuracy is 0.921\n",
            "The accuracy is 0.921\n",
            "The accuracy is 0.921\n",
            "The accuracy is 0.921\n",
            "The accuracy is 0.921\n",
            "The accuracy is 0.921\n",
            "The accuracy is 0.921\n",
            "The accuracy is 0.921\n",
            "The accuracy is 0.921\n",
            "The accuracy is 0.921\n"
          ]
        },
        {
          "output_type": "display_data",
          "data": {
            "image/png": "[encoded data removed]",
            "text/plain": [
              "<Figure size 432x288 with 1 Axes>"
            ]
          },
          "metadata": {
            "needs_background": "light"
          }
        }
      ]
    },
    {
      "cell_type": "code",
      "metadata": {
        "colab": {
          "base_uri": "https://localhost:8080/",
          "height": 54
        },
        "id": "ufKpXrtTDies",
        "outputId": "c64e0e87-9039-48ad-c163-c7c15cf2da16"
      },
      "source": [
        "'''Using Principle Component Analysis it appears that the max accuracy we achieved was 0.924 with the majority being 0.921.\n",
        "This is promising because we can drastically reduce the run time of this model by PCA'''"
      ],
      "execution_count": 43,
      "outputs": [
        {
          "output_type": "execute_result",
          "data": {
            "application/vnd.google.colaboratory.intrinsic+json": {
              "type": "string"
            },
            "text/plain": [
              "'Using Principle Component Analysis it appears that the max accuracy we achieved was 0.924 with the majority being 0.921.\\nThis is promising because we can drastically reduce the run time of this model by PCA'"
            ]
          },
          "metadata": {},
          "execution_count": 43
        }
      ]
    },
    {
      "cell_type": "code",
      "metadata": {
        "id": "UdIGd3qeFAVW"
      },
      "source": [
        ""
      ],
      "execution_count": null,
      "outputs": []
    }
  ]
}